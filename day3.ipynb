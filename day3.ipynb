{
 "cells": [
  {
   "cell_type": "code",
   "execution_count": null,
   "metadata": {},
   "outputs": [],
   "source": []
  },
  {
   "cell_type": "markdown",
   "metadata": {},
   "source": [
    "# Function\n"
   ]
  },
  {
   "cell_type": "code",
   "execution_count": 1,
   "metadata": {},
   "outputs": [
    {
     "name": "stdout",
     "output_type": "stream",
     "text": [
      "No\n"
     ]
    }
   ],
   "source": [
    "def is_prime(number):\n",
    "    l = []\n",
    "    for i in range(1, number + 1):\n",
    "        if number % i == 0:\n",
    "            l.append(i)\n",
    "    if len(l) == 2:\n",
    "        print(\"It's prime\")\n",
    "    else:\n",
    "        print(\"No\")\n",
    "is_prime(10)\n"
   ]
  },
  {
   "cell_type": "code",
   "execution_count": 2,
   "metadata": {},
   "outputs": [
    {
     "name": "stdout",
     "output_type": "stream",
     "text": [
      "[1, 2, 5, 10]\n"
     ]
    }
   ],
   "source": [
    "def factor(number):\n",
    "    l = []\n",
    "    for i in range(1, number + 1):\n",
    "        if number % i == 0:\n",
    "            l.append(i)\n",
    "    print(l)\n",
    "factor(10)"
   ]
  },
  {
   "cell_type": "code",
   "execution_count": 3,
   "metadata": {},
   "outputs": [
    {
     "name": "stdout",
     "output_type": "stream",
     "text": [
      "[1, 2, 5, 10]\n"
     ]
    }
   ],
   "source": [
    "def common_factor(number1, number2):\n",
    "    common_factor = []\n",
    "\n",
    "    for num in range(1, min(number1, number2) + 1):\n",
    "        if number1 % num == 0 and number2 % num == 0:\n",
    "            common_factor.append(num)\n",
    "    print(common_factor)\n",
    "\n",
    "common_factor(10, 20)"
   ]
  },
  {
   "cell_type": "code",
   "execution_count": 4,
   "metadata": {},
   "outputs": [
    {
     "name": "stdout",
     "output_type": "stream",
     "text": [
      "['sam', 'aam', 'yam', 'mmm', 'yyy']\n"
     ]
    }
   ],
   "source": [
    "def three_letter(names):\n",
    "    list_3_le = []\n",
    "    for i in names:\n",
    "        if len(i) == 3:\n",
    "            list_3_le.append(i)\n",
    "    print(list_3_le)\n",
    "\n",
    "name = [\"python\", \"sam\", \"class\", \"aam\", \"yam\", \"letter\", \"mmm\", \"yyy\"]\n",
    "three_letter(name)"
   ]
  },
  {
   "cell_type": "code",
   "execution_count": 5,
   "metadata": {},
   "outputs": [
    {
     "name": "stdout",
     "output_type": "stream",
     "text": [
      "['sam', 'aam', 'yam']\n"
     ]
    }
   ],
   "source": [
    "def is_vowel_3letter(names, vowels):\n",
    "\n",
    "    list_3_le = []\n",
    "    for i in names:\n",
    "        if len(i) == 3 and any(x in vowels for x in i):\n",
    "            list_3_le.append(i)\n",
    "    print(list_3_le)\n",
    "\n",
    "vowel = (\"a\", \"e\", \"i\", \"o\", \"u\", \"A\", \"E\", \"I\", \"O\", \"U\") \n",
    "name = [\"python\", \"sam\", \"class\", \"aam\", \"yam\", \"letter\"]\n",
    "\n",
    "is_vowel_3letter(name, vowel)"
   ]
  },
  {
   "cell_type": "code",
   "execution_count": 6,
   "metadata": {},
   "outputs": [
    {
     "name": "stdout",
     "output_type": "stream",
     "text": [
      "10\n"
     ]
    }
   ],
   "source": [
    "def highest_common_factor(number1, number2):\n",
    "    \n",
    "    gcf = []\n",
    "\n",
    "    for num in range(1, min(number1, number2) + 1):\n",
    "        if number1 % num == 0 and number2 % num == 0:\n",
    "            gcf.append(num)\n",
    "    print(max(gcf))\n",
    "\n",
    "highest_common_factor(10, 90)\n"
   ]
  },
  {
   "cell_type": "markdown",
   "metadata": {},
   "source": [
    "# Return VS print"
   ]
  },
  {
   "cell_type": "code",
   "execution_count": 7,
   "metadata": {},
   "outputs": [
    {
     "name": "stdout",
     "output_type": "stream",
     "text": [
      "10\n"
     ]
    }
   ],
   "source": [
    "# in print() you'll be getting limited acesss like you can only visulaize and can't store the def data in any variable it \n",
    "# howere if you use return that you can visualize and store tha data in any variable.\n",
    "\n",
    "def highest_common_factor(number1, number2):\n",
    "    \n",
    "    gcf = []\n",
    "\n",
    "    for num in range(1, min(number1, number2) + 1):\n",
    "        if number1 % num == 0 and number2 % num == 0:\n",
    "            gcf.append(num)\n",
    "    print(max(gcf))\n",
    "\n",
    "highest_common_factor(10, 90)"
   ]
  },
  {
   "cell_type": "code",
   "execution_count": 9,
   "metadata": {},
   "outputs": [
    {
     "name": "stdout",
     "output_type": "stream",
     "text": [
      "10\n"
     ]
    }
   ],
   "source": [
    "a = highest_common_factor(20, 50)\n",
    "a"
   ]
  },
  {
   "cell_type": "code",
   "execution_count": 10,
   "metadata": {},
   "outputs": [
    {
     "data": {
      "text/plain": [
       "10"
      ]
     },
     "execution_count": 10,
     "metadata": {},
     "output_type": "execute_result"
    }
   ],
   "source": [
    "def highest_common_factor(number1, number2):\n",
    "    \n",
    "    gcf = []\n",
    "\n",
    "    for num in range(1, min(number1, number2) + 1):\n",
    "        if number1 % num == 0 and number2 % num == 0:\n",
    "            gcf.append(num)\n",
    "    return max(gcf)\n",
    "\n",
    "highest_common_factor(10, 90)"
   ]
  },
  {
   "cell_type": "markdown",
   "metadata": {},
   "source": [
    "# Default Value"
   ]
  },
  {
   "cell_type": "code",
   "execution_count": 14,
   "metadata": {},
   "outputs": [
    {
     "data": {
      "text/plain": [
       "4"
      ]
     },
     "execution_count": 14,
     "metadata": {},
     "output_type": "execute_result"
    }
   ],
   "source": [
    "# if you don't give any value in def() then by default python will assume 0 as their value\n",
    "def sum_(num1 = 1, num2 = 3):\n",
    "    return num1 + num2\n",
    "sum_()"
   ]
  },
  {
   "cell_type": "code",
   "execution_count": null,
   "metadata": {},
   "outputs": [],
   "source": []
  }
 ],
 "metadata": {
  "kernelspec": {
   "display_name": "Python 3",
   "language": "python",
   "name": "python3"
  },
  "language_info": {
   "codemirror_mode": {
    "name": "ipython",
    "version": 3
   },
   "file_extension": ".py",
   "mimetype": "text/x-python",
   "name": "python",
   "nbconvert_exporter": "python",
   "pygments_lexer": "ipython3",
   "version": "3.12.0"
  }
 },
 "nbformat": 4,
 "nbformat_minor": 2
}
